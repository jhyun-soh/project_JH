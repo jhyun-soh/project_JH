{
 "cells": [
  {
   "cell_type": "markdown",
   "id": "97930cdf-719d-4c34-9411-59004082f0e6",
   "metadata": {
    "jp-MarkdownHeadingCollapsed": true
   },
   "source": [
    "# LCA for Holzhaus project \n",
    "\n",
    "- create new database \n",
    "- import data from excel into brightway (adding nodes and edges)\n",
    "- calculate LCA  \n",
    "    - calculate GWP potential (discounted) per scenario per year\n",
    "    - calculate contribution of GWP per scenario per year "
   ]
  },
  {
   "cell_type": "markdown",
   "id": "6ea80396-926a-413a-b3aa-43e76e9bca81",
   "metadata": {},
   "source": [
    "# Import required packages"
   ]
  },
  {
   "cell_type": "code",
   "execution_count": 1,
   "id": "290b35b6-9a8c-41d4-8997-1e2161f32380",
   "metadata": {},
   "outputs": [],
   "source": [
    "import bw2data as bd\n",
    "import bw2io as bi\n",
    "from pathlib import Path"
   ]
  },
  {
   "cell_type": "code",
   "execution_count": 2,
   "id": "39c9950d-3e67-4e46-97bc-a76b2a152ecb",
   "metadata": {},
   "outputs": [
    {
     "name": "stdout",
     "output_type": "stream",
     "text": [
      "Restoring project backup archive - this could take a few minutes...\n",
      "Restored project: Holzhaus\n",
      "\u001b[2m07:02:20+0000\u001b[0m [\u001b[32m\u001b[1minfo     \u001b[0m] \u001b[1mApplying automatic update: 4.0 database search directories FTS5\u001b[0m\n",
      "\u001b[2m07:02:20+0000\u001b[0m [\u001b[32m\u001b[1minfo     \u001b[0m] \u001b[1mReindexing database ecoinvent-3.10-biosphere\u001b[0m\n",
      "\u001b[2m07:02:20+0000\u001b[0m [\u001b[32m\u001b[1minfo     \u001b[0m] \u001b[1mReindexing database ecoinvent-3.10-cutoff\u001b[0m\n"
     ]
    }
   ],
   "source": [
    "import bw2data as bd\n",
    "import bw2io as bi\n",
    "\n",
    "PROJECT_NAME = \"Holzhaus\"\n",
    "\n",
    "bi.restore_project_directory(\n",
    "    fp='/etc/data/ecoinvent-3.10-cutoff-bw25.tar.gz',\n",
    "    project_name=PROJECT_NAME,\n",
    "    overwrite_existing=True\n",
    ")\n",
    "bd.projects.set_current(PROJECT_NAME)"
   ]
  },
  {
   "cell_type": "markdown",
   "id": "1b3b9d18-85ef-4358-8e27-3bee6412314c",
   "metadata": {},
   "source": [
    "# Import processes from excel to brightway \n",
    "This includes the processes timber production, construction, waste treatment, and electricity generation. \n",
    "\n",
    "To add: electricity generation. "
   ]
  },
  {
   "cell_type": "code",
   "execution_count": 3,
   "id": "b76effe9-6e86-40f8-81a5-4b16e59d002b",
   "metadata": {},
   "outputs": [],
   "source": [
    "bd.projects.set_current(PROJECT_NAME)"
   ]
  },
  {
   "cell_type": "code",
   "execution_count": 4,
   "id": "7d5d45d6-01e9-4e67-a7dd-c51b23d45928",
   "metadata": {},
   "outputs": [
    {
     "name": "stdout",
     "output_type": "stream",
     "text": [
      "Extracted 1 worksheets in 0.01 seconds\n"
     ]
    }
   ],
   "source": [
    "imp = bi.ExcelImporter('LCA-2.xlsx')"
   ]
  },
  {
   "cell_type": "code",
   "execution_count": 5,
   "id": "9a791dae-ecd5-4a80-b20e-af8a6880bbdb",
   "metadata": {},
   "outputs": [
    {
     "data": {
      "text/plain": [
       "Databases dictionary with 2 object(s):\n",
       "\tecoinvent-3.10-biosphere\n",
       "\tecoinvent-3.10-cutoff"
      ]
     },
     "execution_count": 5,
     "metadata": {},
     "output_type": "execute_result"
    }
   ],
   "source": [
    "bd.databases"
   ]
  },
  {
   "cell_type": "code",
   "execution_count": 6,
   "id": "fedc7100-459c-4a00-9b9d-6fb1bf23001d",
   "metadata": {},
   "outputs": [
    {
     "name": "stdout",
     "output_type": "stream",
     "text": [
      "Applying strategy: csv_restore_tuples\n",
      "Applying strategy: csv_restore_booleans\n",
      "Applying strategy: csv_numerize\n",
      "Applying strategy: csv_drop_unknown\n",
      "Applying strategy: csv_add_missing_exchanges_section\n",
      "Applying strategy: normalize_units\n",
      "Applying strategy: normalize_biosphere_categories\n",
      "Applying strategy: normalize_biosphere_names\n",
      "Applying strategy: strip_biosphere_exc_locations\n",
      "Applying strategy: set_code_by_activity_hash\n",
      "Applying strategy: link_iterable_by_fields\n",
      "Applying strategy: assign_only_product_as_production\n",
      "Applying strategy: link_technosphere_by_activity_hash\n",
      "Applying strategy: drop_falsey_uncertainty_fields_but_keep_zeros\n",
      "Applying strategy: convert_uncertainty_types_to_integers\n",
      "Applying strategy: convert_activity_parameters_to_list\n",
      "Applied 16 strategies in 0.06 seconds\n"
     ]
    }
   ],
   "source": [
    "imp.apply_strategies()"
   ]
  },
  {
   "cell_type": "markdown",
   "id": "4c9cdcdf-9dca-476a-8f20-6eac9b6e5d8a",
   "metadata": {},
   "source": [
    "the 'timber' database does not show up yet, because we haven't done the `imp.write_database()` command. we will run this after the database has been cleaned up. "
   ]
  },
  {
   "cell_type": "code",
   "execution_count": 7,
   "id": "80157ae9-7fe0-42cf-8dcf-f15185241214",
   "metadata": {},
   "outputs": [
    {
     "name": "stdout",
     "output_type": "stream",
     "text": [
      "Graph statistics for `timber` importer:\n",
      "4 graph nodes:\n",
      "\tNone: 4\n",
      "4 graph edges:\n",
      "\ttechnosphere: 4\n",
      "0 edges to the following databases:\n",
      "4 unique unlinked edges (4 total):\n",
      "\ttechnosphere: 4\n",
      "\n",
      "\n"
     ]
    },
    {
     "data": {
      "text/plain": [
       "(4, 4, 4, 0)"
      ]
     },
     "execution_count": 7,
     "metadata": {},
     "output_type": "execute_result"
    }
   ],
   "source": [
    "imp.statistics()"
   ]
  },
  {
   "cell_type": "code",
   "execution_count": 8,
   "id": "ac2dcf1b-1c58-4dc1-b84d-200424a82292",
   "metadata": {},
   "outputs": [
    {
     "name": "stdout",
     "output_type": "stream",
     "text": [
      "{'name': 'market for structural timber', 'amount': 1.0, 'database': 'ecoinvent', 'location': 'RER', 'unit': 'cubic meter', 'type': 'technosphere', 'reference product': 'structural timber'}\n",
      "{'name': 'building construction, hall, wood construction', 'amount': 1.0, 'database': 'ecoinvent', 'location': 'RoW', 'unit': 'square meter', 'type': 'technosphere', 'reference product': 'building, hall, wood construction'}\n",
      "{'name': 'market for waste building wood, chrome preserved', 'amount': -1.0, 'database': 'ecoinvent', 'location': 'RoW', 'unit': 'kilogram', 'type': 'technosphere', 'reference product': 'waste building wood, chrome preserved'}\n",
      "{'name': 'market for electricity, low voltage', 'amount': 1.0, 'database': 'ecoinvent', 'location': 'DE', 'unit': 'kilowatt hour', 'type': 'technosphere', 'reference product': 'electricity, low voltage'}\n"
     ]
    }
   ],
   "source": [
    "for edge, _ in zip(imp.unlinked, range(5)):\n",
    "    print(edge)"
   ]
  },
  {
   "cell_type": "code",
   "execution_count": 9,
   "id": "2012b9c8-c0ef-4074-9c8a-9e50c250b810",
   "metadata": {},
   "outputs": [
    {
     "name": "stdout",
     "output_type": "stream",
     "text": [
      "Applying strategy: link_iterable_by_fields\n",
      "Graph statistics for `timber` importer:\n",
      "4 graph nodes:\n",
      "\tNone: 4\n",
      "4 graph edges:\n",
      "\ttechnosphere: 4\n",
      "4 edges to the following databases:\n",
      "\tecoinvent-3.10-cutoff: 4\n",
      "0 unique unlinked edges (0 total):\n",
      "\n",
      "\n"
     ]
    },
    {
     "data": {
      "text/plain": [
       "(4, 4, 0, 0)"
      ]
     },
     "execution_count": 9,
     "metadata": {},
     "output_type": "execute_result"
    }
   ],
   "source": [
    "# match database according to fields \n",
    "imp.match_database(\"ecoinvent-3.10-cutoff\", fields=('name', 'reference product', 'unit', 'location'))\n",
    "imp.statistics()"
   ]
  },
  {
   "cell_type": "code",
   "execution_count": 10,
   "id": "9ec9986c-5108-4140-9bb3-2d51593790bb",
   "metadata": {},
   "outputs": [],
   "source": [
    "for edge in imp.unlinked:\n",
    "    print(edge)"
   ]
  },
  {
   "cell_type": "code",
   "execution_count": 11,
   "id": "8e587342-0b18-4fba-8aec-ba91af9c0047",
   "metadata": {},
   "outputs": [
    {
     "name": "stdout",
     "output_type": "stream",
     "text": [
      "Graph statistics for `timber` importer:\n",
      "4 graph nodes:\n",
      "\tNone: 4\n",
      "4 graph edges:\n",
      "\ttechnosphere: 4\n",
      "4 edges to the following databases:\n",
      "\tecoinvent-3.10-cutoff: 4\n",
      "0 unique unlinked edges (0 total):\n",
      "\n",
      "\n"
     ]
    }
   ],
   "source": [
    "assert imp.all_linked"
   ]
  },
  {
   "cell_type": "markdown",
   "id": "b55f846b-e070-4924-a756-576750a29f39",
   "metadata": {},
   "source": [
    "### Save excel processes to db"
   ]
  },
  {
   "cell_type": "code",
   "execution_count": 12,
   "id": "c6b060aa-f20d-494b-b5be-a87346eb6a0a",
   "metadata": {},
   "outputs": [],
   "source": [
    "for node in imp.data:\n",
    "    node[\"type\"] = bd.labels.process_node_default"
   ]
  },
  {
   "cell_type": "code",
   "execution_count": 13,
   "id": "d75761ce-4d81-4d8e-bc68-4882e0206cbd",
   "metadata": {},
   "outputs": [
    {
     "name": "stdout",
     "output_type": "stream",
     "text": [
      "\u001b[2m07:02:24+0000\u001b[0m [\u001b[33m\u001b[1mwarning  \u001b[0m] \u001b[1mNot able to determine geocollections for all datasets. This database is not ready for regionalization.\u001b[0m\n"
     ]
    },
    {
     "name": "stderr",
     "output_type": "stream",
     "text": [
      "100%|██████████| 4/4 [00:00<00:00, 11707.76it/s]"
     ]
    },
    {
     "name": "stdout",
     "output_type": "stream",
     "text": [
      "\u001b[2m07:02:24+0000\u001b[0m [\u001b[32m\u001b[1minfo     \u001b[0m] \u001b[1mVacuuming database            \u001b[0m\n"
     ]
    },
    {
     "name": "stderr",
     "output_type": "stream",
     "text": [
      "\n"
     ]
    },
    {
     "name": "stdout",
     "output_type": "stream",
     "text": [
      "Created database: timber\n"
     ]
    }
   ],
   "source": [
    "imp.write_database()"
   ]
  },
  {
   "cell_type": "code",
   "execution_count": 14,
   "id": "18b55fd3-5f99-45a3-82d6-7739aaaa22c3",
   "metadata": {},
   "outputs": [
    {
     "data": {
      "text/plain": [
       "Databases dictionary with 3 object(s):\n",
       "\tecoinvent-3.10-biosphere\n",
       "\tecoinvent-3.10-cutoff\n",
       "\ttimber"
      ]
     },
     "execution_count": 14,
     "metadata": {},
     "output_type": "execute_result"
    }
   ],
   "source": [
    "bd.databases"
   ]
  },
  {
   "cell_type": "code",
   "execution_count": 15,
   "id": "a235aa15-3782-470c-96e9-125ab63f49ca",
   "metadata": {},
   "outputs": [],
   "source": [
    "for node in bd.Database(\"timber\"):\n",
    "    node[\"type\"] = \"process\"\n",
    "    node.save()"
   ]
  },
  {
   "cell_type": "code",
   "execution_count": 16,
   "id": "0926848f-0f81-4601-85eb-7d5930890b4a",
   "metadata": {},
   "outputs": [],
   "source": [
    "def print_db(label: str = \"timber\"):\n",
    "    db = bd.Database(label)\n",
    "    for index, node in enumerate(sorted(db, key=lambda x: x.id)):\n",
    "        print(f\"{index}: {node[\"type\"]} {node}\")\n",
    "        for edge in node.exchanges():\n",
    "            print(f\"\\t{edge}\")\n",
    "            print(\"\\t\", edge[\"type\"], edge.input[\"type\"], edge.output[\"type\"], edge.input[\"database\"], edge.output[\"database\"])\n",
    "        print()"
   ]
  },
  {
   "cell_type": "code",
   "execution_count": 17,
   "id": "3c172b82-4f1f-4e4c-ae22-d1b3526f71ba",
   "metadata": {},
   "outputs": [
    {
     "name": "stdout",
     "output_type": "stream",
     "text": [
      "0: process 'timber production' (cubic meter, DE, None)\n",
      "\tExchange: 1.0 cubic meter 'market for structural timber' (cubic meter, RER, None) to 'timber production' (cubic meter, DE, None)>\n",
      "\t technosphere process process ecoinvent-3.10-cutoff timber\n",
      "\n",
      "1: process 'construction' (square meter, RoW, None)\n",
      "\tExchange: 1.0 square meter 'building construction, hall, wood construction' (square meter, RoW, None) to 'construction' (square meter, RoW, None)>\n",
      "\t technosphere process process ecoinvent-3.10-cutoff timber\n",
      "\n",
      "2: process 'waste treatment' (kilogram, RoW, None)\n",
      "\tExchange: -1.0 kilogram 'market for waste building wood, chrome preserved' (kilogram, RoW, None) to 'waste treatment' (kilogram, RoW, None)>\n",
      "\t technosphere process process ecoinvent-3.10-cutoff timber\n",
      "\n",
      "3: process 'electricity production' (kilowatt hour, DE, None)\n",
      "\tExchange: 1.0 kilowatt hour 'market for electricity, low voltage' (kilowatt hour, DE, None) to 'electricity production' (kilowatt hour, DE, None)>\n",
      "\t technosphere process process ecoinvent-3.10-cutoff timber\n",
      "\n"
     ]
    }
   ],
   "source": [
    "print_db()"
   ]
  },
  {
   "cell_type": "markdown",
   "id": "a25208d1-36c6-4faf-9265-74f501bf6d51",
   "metadata": {},
   "source": [
    "# Add the rest of the nodes \n",
    "Right now, we have added the processes - timber production, construction, electricity production, and waste management. what's missing are \n",
    "- the other nodes, the products - timber, building, and CO2.\n",
    "- all the edges between all the nodes\n",
    "\n",
    "Now let's add the missing nodes and edges. "
   ]
  },
  {
   "cell_type": "code",
   "execution_count": 18,
   "id": "4eaf8335-50ba-4800-afb3-4e4181742c14",
   "metadata": {},
   "outputs": [],
   "source": [
    "db = bd.Database(\"timber\")"
   ]
  },
  {
   "cell_type": "code",
   "execution_count": 19,
   "id": "79115fd6-523c-47d0-8311-1f5d735fd4fe",
   "metadata": {},
   "outputs": [
    {
     "name": "stdout",
     "output_type": "stream",
     "text": [
      "node: \n",
      "'waste treatment' (kilogram, RoW, None)\n",
      "Edges connected to node (above):\n",
      "\n",
      "\n",
      "\n",
      "node: \n",
      "'construction' (square meter, RoW, None)\n",
      "Edges connected to node (above):\n",
      "\n",
      "\n",
      "\n",
      "node: \n",
      "'electricity production' (kilowatt hour, DE, None)\n",
      "Edges connected to node (above):\n",
      "\n",
      "\n",
      "\n",
      "node: \n",
      "'timber production' (cubic meter, DE, None)\n",
      "Edges connected to node (above):\n",
      "\n",
      "\n",
      "\n"
     ]
    }
   ],
   "source": [
    "# let's check what nodes and edges are already in the database\n",
    "for node in bd.Database('timber'):\n",
    "    print('node: ')\n",
    "    print(node)\n",
    "    print('Edges connected to node (above):')\n",
    "    list(node.edges())\n",
    "    print('\\n\\n')"
   ]
  },
  {
   "cell_type": "markdown",
   "id": "8ff90440-f86d-4f0e-9960-0bae83df1d24",
   "metadata": {},
   "source": [
    "### Add housing lifecycle process node"
   ]
  },
  {
   "cell_type": "code",
   "execution_count": 20,
   "id": "3f1c732e-6897-4a7f-b966-90b1eed09afc",
   "metadata": {},
   "outputs": [],
   "source": [
    "housing_lifecycle = db.new_node(\n",
    "    name=\"housing life cycle\",\n",
    "    location=\"DE\",\n",
    "    type=bd.labels.process_node_default\n",
    ")\n",
    "housing_lifecycle.save()"
   ]
  },
  {
   "cell_type": "markdown",
   "id": "324cac30-4f06-4d91-9576-4f8d88e0f2b4",
   "metadata": {},
   "source": [
    "Let's manually add the technosphere nodes (and later, the edges in-between). \n",
    "\n",
    "As for the biophere nodes, we want to try directly adding them into the .xlsx file and import again. "
   ]
  },
  {
   "cell_type": "markdown",
   "id": "00b84f33-1639-462e-ab33-b7b47098bbc2",
   "metadata": {},
   "source": [
    "### Adding product nodes"
   ]
  },
  {
   "cell_type": "code",
   "execution_count": 21,
   "id": "30acd177-b130-412c-b68e-c0ddc5df7731",
   "metadata": {},
   "outputs": [],
   "source": [
    "timber = db.new_node(\n",
    "    code=\"timber\",\n",
    "    name='timber',\n",
    "    unit=\"cubic meter\",\n",
    "    type=bd.labels.product_node_default,\n",
    ")\n",
    "timber.save()\n",
    "building = db.new_node(\n",
    "    code=\"building\",\n",
    "    name='building',\n",
    "    unit=\"square meter\",\n",
    "    type=bd.labels.product_node_default,\n",
    ")\n",
    "building.save()\n",
    "waste_wood = db.new_node(\n",
    "    code=\"ww\",\n",
    "    name='waste wood',\n",
    "    unit=\"kilogram\",\n",
    "    type=bd.labels.product_node_default,\n",
    ")\n",
    "waste_wood.save()\n",
    "housing_service = db.new_node(\n",
    "    code=\"hs\",\n",
    "    name='wood-framed building services for Germany',\n",
    "    type=bd.labels.product_node_default,\n",
    "    unit='person-year', \n",
    ")\n",
    "housing_service.save()\n",
    "electricity = db.new_node(\n",
    "    code=\"electricity\",\n",
    "    name='electricity use for housing lifecycle',\n",
    "    unit=\"kWh\",\n",
    "    type=bd.labels.product_node_default,\n",
    ")\n",
    "electricity.save()"
   ]
  },
  {
   "cell_type": "code",
   "execution_count": 22,
   "id": "0a675684-41eb-4cb9-ab51-291868dcab51",
   "metadata": {},
   "outputs": [
    {
     "name": "stdout",
     "output_type": "stream",
     "text": [
      "0: process 'timber production' (cubic meter, DE, None)\n",
      "\tExchange: 1.0 cubic meter 'market for structural timber' (cubic meter, RER, None) to 'timber production' (cubic meter, DE, None)>\n",
      "\t technosphere process process ecoinvent-3.10-cutoff timber\n",
      "\n",
      "1: process 'construction' (square meter, RoW, None)\n",
      "\tExchange: 1.0 square meter 'building construction, hall, wood construction' (square meter, RoW, None) to 'construction' (square meter, RoW, None)>\n",
      "\t technosphere process process ecoinvent-3.10-cutoff timber\n",
      "\n",
      "2: process 'waste treatment' (kilogram, RoW, None)\n",
      "\tExchange: -1.0 kilogram 'market for waste building wood, chrome preserved' (kilogram, RoW, None) to 'waste treatment' (kilogram, RoW, None)>\n",
      "\t technosphere process process ecoinvent-3.10-cutoff timber\n",
      "\n",
      "3: process 'electricity production' (kilowatt hour, DE, None)\n",
      "\tExchange: 1.0 kilowatt hour 'market for electricity, low voltage' (kilowatt hour, DE, None) to 'electricity production' (kilowatt hour, DE, None)>\n",
      "\t technosphere process process ecoinvent-3.10-cutoff timber\n",
      "\n",
      "4: process 'housing life cycle' (None, DE, None)\n",
      "\n",
      "5: product 'timber' (cubic meter, GLO, None)\n",
      "\n",
      "6: product 'building' (square meter, GLO, None)\n",
      "\n",
      "7: product 'waste wood' (kilogram, GLO, None)\n",
      "\n",
      "8: product 'wood-framed building services for Germany' (person-year, GLO, None)\n",
      "\n",
      "9: product 'electricity use for housing lifecycle' (kWh, GLO, None)\n",
      "\n"
     ]
    }
   ],
   "source": [
    "print_db()"
   ]
  },
  {
   "cell_type": "code",
   "execution_count": 23,
   "id": "dc573b30-11c3-4828-8696-e797f46e7e62",
   "metadata": {},
   "outputs": [
    {
     "name": "stdout",
     "output_type": "stream",
     "text": [
      "should have 10 nodes\n",
      "\n",
      "1 - 'wood-framed building services for Germany' (person-year, GLO, None)\n",
      "2 - 'electricity production' (kilowatt hour, DE, None)\n",
      "3 - 'electricity use for housing lifecycle' (kWh, GLO, None)\n",
      "4 - 'waste treatment' (kilogram, RoW, None)\n",
      "5 - 'building' (square meter, GLO, None)\n",
      "6 - 'waste wood' (kilogram, GLO, None)\n",
      "7 - 'timber' (cubic meter, GLO, None)\n",
      "8 - 'housing life cycle' (None, DE, None)\n",
      "9 - 'construction' (square meter, RoW, None)\n",
      "10 - 'timber production' (cubic meter, DE, None)\n"
     ]
    }
   ],
   "source": [
    "print('should have 10 nodes\\n')\n",
    "for i, node in enumerate(bd.Database('timber')):\n",
    "    print(f'{i+1} - {node}')"
   ]
  },
  {
   "cell_type": "markdown",
   "id": "7009125f-fed1-4a64-8b76-91866ec064a7",
   "metadata": {},
   "source": [
    "### Adding all production edges"
   ]
  },
  {
   "cell_type": "code",
   "execution_count": 24,
   "id": "38ffc56d-eb2d-488a-b692-433f1efab88f",
   "metadata": {},
   "outputs": [],
   "source": [
    "def add_production_edge(\n",
    "        process_node_name, # name (string) of process node\n",
    "        product_node, # node OBJECT of product node \n",
    "        negative=False\n",
    "    ): \n",
    "    process_node = bd.get_node(name = process_node_name) # get node\n",
    "    process_node.new_edge(\n",
    "        input=product_node, # product being produced by process \n",
    "        amount=1 if negative==False else -1, # this is always 1 \n",
    "        type=bd.labels.production_edge_default\n",
    "    ).save() # make new edge and save "
   ]
  },
  {
   "cell_type": "code",
   "execution_count": 25,
   "id": "878ebb1d-a653-4dbb-85f8-696c85ea7a68",
   "metadata": {},
   "outputs": [],
   "source": [
    "add_production_edge_dict = {\n",
    "    # process_node_name: product_node\n",
    "    'timber production': timber, \n",
    "    'construction': building, \n",
    "   # 'housing life cycle': housing_service, \n",
    "   # 'waste treatment': waste_wood, \n",
    "    'electricity production': electricity,  \n",
    "    # 'housing life cycle': waste_wood, # shouldn't be here, it's a consumption edge\n",
    "}"
   ]
  },
  {
   "cell_type": "code",
   "execution_count": 26,
   "id": "59bcc665-8c6f-47e1-84fa-7821d27b7c26",
   "metadata": {},
   "outputs": [],
   "source": [
    "# add production edges listed in the add_production_edge_dict\n",
    "for process_node_name, product_node in add_production_edge_dict.items(): \n",
    "    #if process_node_name == 'waste treatment': \n",
    "    #    add_production_edge(process_node_name, product_node, negative=True)\n",
    "    #else: \n",
    "    add_production_edge(process_node_name, product_node, negative=False)"
   ]
  },
  {
   "cell_type": "code",
   "execution_count": 27,
   "id": "e3564b47-0178-4529-9a05-f312952643fe",
   "metadata": {},
   "outputs": [
    {
     "name": "stdout",
     "output_type": "stream",
     "text": [
      "0: process 'timber production' (cubic meter, DE, None)\n",
      "\tExchange: 1.0 cubic meter 'market for structural timber' (cubic meter, RER, None) to 'timber production' (cubic meter, DE, None)>\n",
      "\t technosphere process process ecoinvent-3.10-cutoff timber\n",
      "\tExchange: 1 cubic meter 'timber' (cubic meter, GLO, None) to 'timber production' (cubic meter, DE, None)>\n",
      "\t production product process timber timber\n",
      "\n",
      "1: process 'construction' (square meter, RoW, None)\n",
      "\tExchange: 1.0 square meter 'building construction, hall, wood construction' (square meter, RoW, None) to 'construction' (square meter, RoW, None)>\n",
      "\t technosphere process process ecoinvent-3.10-cutoff timber\n",
      "\tExchange: 1 square meter 'building' (square meter, GLO, None) to 'construction' (square meter, RoW, None)>\n",
      "\t production product process timber timber\n",
      "\n",
      "2: process 'waste treatment' (kilogram, RoW, None)\n",
      "\tExchange: -1.0 kilogram 'market for waste building wood, chrome preserved' (kilogram, RoW, None) to 'waste treatment' (kilogram, RoW, None)>\n",
      "\t technosphere process process ecoinvent-3.10-cutoff timber\n",
      "\n",
      "3: process 'electricity production' (kilowatt hour, DE, None)\n",
      "\tExchange: 1.0 kilowatt hour 'market for electricity, low voltage' (kilowatt hour, DE, None) to 'electricity production' (kilowatt hour, DE, None)>\n",
      "\t technosphere process process ecoinvent-3.10-cutoff timber\n",
      "\tExchange: 1 kWh 'electricity use for housing lifecycle' (kWh, GLO, None) to 'electricity production' (kilowatt hour, DE, None)>\n",
      "\t production product process timber timber\n",
      "\n",
      "4: process 'housing life cycle' (None, DE, None)\n",
      "\n",
      "5: product 'timber' (cubic meter, GLO, None)\n",
      "\n",
      "6: product 'building' (square meter, GLO, None)\n",
      "\n",
      "7: product 'waste wood' (kilogram, GLO, None)\n",
      "\n",
      "8: product 'wood-framed building services for Germany' (person-year, GLO, None)\n",
      "\n",
      "9: product 'electricity use for housing lifecycle' (kWh, GLO, None)\n",
      "\n"
     ]
    }
   ],
   "source": [
    "print_db()"
   ]
  },
  {
   "cell_type": "code",
   "execution_count": 28,
   "id": "d1615018-a4cf-4144-8fe8-81a5af7638fa",
   "metadata": {},
   "outputs": [
    {
     "name": "stdout",
     "output_type": "stream",
     "text": [
      "[Exchange: 1 person-year 'wood-framed building services for Germany' (person-year, GLO, None) to 'housing life cycle' (None, DE, None)>, Exchange: 1 kilogram 'waste wood' (kilogram, GLO, None) to 'housing life cycle' (None, DE, None)>]\n"
     ]
    }
   ],
   "source": [
    "housing_lifecycle = bd.get_node(name = 'housing life cycle')\n",
    "housing_lifecycle.new_edge(\n",
    "    input=housing_service,\n",
    "    amount=1,\n",
    "    functional=True,\n",
    "    type=bd.labels.production_edge_default\n",
    ").save()\n",
    "housing_lifecycle.new_edge(\n",
    "    input=waste_wood,\n",
    "    amount=1,\n",
    "    functional=False,\n",
    "    type=bd.labels.production_edge_default\n",
    ").save()\n",
    "print(list(housing_lifecycle.edges()))"
   ]
  },
  {
   "cell_type": "markdown",
   "id": "7f759f1c-5837-47ec-99ee-27d2a30b5235",
   "metadata": {},
   "source": [
    "### Adding consumption edges"
   ]
  },
  {
   "cell_type": "code",
   "execution_count": 29,
   "id": "50f19165-84c4-47c7-bf30-4282c471e91b",
   "metadata": {},
   "outputs": [],
   "source": [
    "# timber --> construction \n",
    "construction = bd.get_node(name='construction')\n",
    "construction.new_edge(\n",
    "    input=timber,\n",
    "    amount=1,\n",
    "    type=bd.labels.consumption_edge_default\n",
    ").save()"
   ]
  },
  {
   "cell_type": "code",
   "execution_count": 30,
   "id": "b70a3247-90d4-4249-a0f8-24de6e1223bc",
   "metadata": {},
   "outputs": [],
   "source": [
    "# building --> housing life cycle \n",
    "housing_life_cycle = bd.get_node(name='housing life cycle')\n",
    "housing_life_cycle.new_edge(\n",
    "    input=building,\n",
    "    amount=1,\n",
    "    type=bd.labels.consumption_edge_default\n",
    ").save()\n",
    "\n",
    "# electricity --> housing lifecycle \n",
    "housing_life_cycle = bd.get_node(name='housing life cycle')\n",
    "housing_life_cycle.new_edge(\n",
    "    input=electricity,\n",
    "    amount=1,\n",
    "    type=bd.labels.consumption_edge_default\n",
    ").save()\n",
    "\n",
    "# housing life cycle --> waste wood \n",
    "#housing_life_cycle = bd.get_node(name='housing life cycle')\n",
    "#housing_life_cycle.new_edge(\n",
    "#    input=waste_wood,\n",
    "#    amount=1,\n",
    "#    type=bd.labels.consumption_edge_default\n",
    "#).save()"
   ]
  },
  {
   "cell_type": "code",
   "execution_count": 31,
   "id": "0a228ed5-fdc8-465a-9fc7-6736e6099739",
   "metadata": {},
   "outputs": [],
   "source": [
    "# waste wood --> waste treatment\n",
    "waste_treatment = bd.get_node(name='waste treatment')\n",
    "waste_treatment.new_edge(\n",
    "    input=waste_wood,\n",
    "    amount=1,\n",
    "    functional=True,\n",
    "    type=bd.labels.consumption_edge_default\n",
    ").save()\n"
   ]
  },
  {
   "cell_type": "code",
   "execution_count": 32,
   "id": "ac8ab6a1-cdad-4949-bee0-9547c7bf6069",
   "metadata": {},
   "outputs": [
    {
     "name": "stdout",
     "output_type": "stream",
     "text": [
      "0: process 'timber production' (cubic meter, DE, None)\n",
      "\tExchange: 1.0 cubic meter 'market for structural timber' (cubic meter, RER, None) to 'timber production' (cubic meter, DE, None)>\n",
      "\t technosphere process process ecoinvent-3.10-cutoff timber\n",
      "\tExchange: 1 cubic meter 'timber' (cubic meter, GLO, None) to 'timber production' (cubic meter, DE, None)>\n",
      "\t production product process timber timber\n",
      "\n",
      "1: process 'construction' (square meter, RoW, None)\n",
      "\tExchange: 1.0 square meter 'building construction, hall, wood construction' (square meter, RoW, None) to 'construction' (square meter, RoW, None)>\n",
      "\t technosphere process process ecoinvent-3.10-cutoff timber\n",
      "\tExchange: 1 square meter 'building' (square meter, GLO, None) to 'construction' (square meter, RoW, None)>\n",
      "\t production product process timber timber\n",
      "\tExchange: 1 cubic meter 'timber' (cubic meter, GLO, None) to 'construction' (square meter, RoW, None)>\n",
      "\t technosphere product process timber timber\n",
      "\n",
      "2: process 'waste treatment' (kilogram, RoW, None)\n",
      "\tExchange: -1.0 kilogram 'market for waste building wood, chrome preserved' (kilogram, RoW, None) to 'waste treatment' (kilogram, RoW, None)>\n",
      "\t technosphere process process ecoinvent-3.10-cutoff timber\n",
      "\tExchange: 1 kilogram 'waste wood' (kilogram, GLO, None) to 'waste treatment' (kilogram, RoW, None)>\n",
      "\t technosphere product process timber timber\n",
      "\n",
      "3: process 'electricity production' (kilowatt hour, DE, None)\n",
      "\tExchange: 1.0 kilowatt hour 'market for electricity, low voltage' (kilowatt hour, DE, None) to 'electricity production' (kilowatt hour, DE, None)>\n",
      "\t technosphere process process ecoinvent-3.10-cutoff timber\n",
      "\tExchange: 1 kWh 'electricity use for housing lifecycle' (kWh, GLO, None) to 'electricity production' (kilowatt hour, DE, None)>\n",
      "\t production product process timber timber\n",
      "\n",
      "4: process 'housing life cycle' (None, DE, None)\n",
      "\tExchange: 1 person-year 'wood-framed building services for Germany' (person-year, GLO, None) to 'housing life cycle' (None, DE, None)>\n",
      "\t production product process timber timber\n",
      "\tExchange: 1 kilogram 'waste wood' (kilogram, GLO, None) to 'housing life cycle' (None, DE, None)>\n",
      "\t production product process timber timber\n",
      "\tExchange: 1 square meter 'building' (square meter, GLO, None) to 'housing life cycle' (None, DE, None)>\n",
      "\t technosphere product process timber timber\n",
      "\tExchange: 1 kWh 'electricity use for housing lifecycle' (kWh, GLO, None) to 'housing life cycle' (None, DE, None)>\n",
      "\t technosphere product process timber timber\n",
      "\n",
      "5: product 'timber' (cubic meter, GLO, None)\n",
      "\n",
      "6: product 'building' (square meter, GLO, None)\n",
      "\n",
      "7: product 'waste wood' (kilogram, GLO, None)\n",
      "\n",
      "8: product 'wood-framed building services for Germany' (person-year, GLO, None)\n",
      "\n",
      "9: product 'electricity use for housing lifecycle' (kWh, GLO, None)\n",
      "\n"
     ]
    }
   ],
   "source": [
    "print_db()"
   ]
  },
  {
   "cell_type": "code",
   "execution_count": 33,
   "id": "e1fb8a65-d592-428c-a2f6-f734f9720ea9",
   "metadata": {},
   "outputs": [
    {
     "data": {
      "text/plain": [
       "set()"
      ]
     },
     "execution_count": 33,
     "metadata": {},
     "output_type": "execute_result"
    }
   ],
   "source": [
    "ids = db.datapackage().data[4]\n",
    "{x[1] for x in ids}.intersection({x[0] for x in ids})"
   ]
  },
  {
   "cell_type": "code",
   "execution_count": 34,
   "id": "29c6d45c-a09e-4398-b2b2-2030f87a1c12",
   "metadata": {},
   "outputs": [
    {
     "data": {
      "text/plain": [
       "(5, 9, 5)"
      ]
     },
     "execution_count": 34,
     "metadata": {},
     "output_type": "execute_result"
    }
   ],
   "source": [
    "ids = db.datapackage().data[4]\n",
    "len({x[1] for x in ids}), len({x[0] for x in ids}), len({x[0] for x in ids if x[0] > 1e6})"
   ]
  },
  {
   "cell_type": "code",
   "execution_count": 35,
   "id": "e1e8cca2-69a7-42d5-8518-bcb2a34c5dbe",
   "metadata": {},
   "outputs": [
    {
     "name": "stdout",
     "output_type": "stream",
     "text": [
      "'market for waste building wood, chrome preserved' (kilogram, RoW, None) \n",
      "\t 'waste treatment' (kilogram, RoW, None)\n",
      "'market for electricity, low voltage' (kilowatt hour, DE, None) \n",
      "\t 'electricity production' (kilowatt hour, DE, None)\n",
      "'market for structural timber' (cubic meter, RER, None) \n",
      "\t 'timber production' (cubic meter, DE, None)\n",
      "'building construction, hall, wood construction' (square meter, RoW, None) \n",
      "\t 'construction' (square meter, RoW, None)\n",
      "'timber' (cubic meter, GLO, None) \n",
      "\t 'timber production' (cubic meter, DE, None)\n",
      "'timber' (cubic meter, GLO, None) \n",
      "\t 'construction' (square meter, RoW, None)\n",
      "'building' (square meter, GLO, None) \n",
      "\t 'construction' (square meter, RoW, None)\n",
      "'building' (square meter, GLO, None) \n",
      "\t 'housing life cycle' (None, DE, None)\n",
      "'waste wood' (kilogram, GLO, None) \n",
      "\t 'waste treatment' (kilogram, RoW, None)\n",
      "'waste wood' (kilogram, GLO, None) \n",
      "\t 'housing life cycle' (None, DE, None)\n",
      "'wood-framed building services for Germany' (person-year, GLO, None) \n",
      "\t 'housing life cycle' (None, DE, None)\n",
      "'electricity use for housing lifecycle' (kWh, GLO, None) \n",
      "\t 'electricity production' (kilowatt hour, DE, None)\n",
      "'electricity use for housing lifecycle' (kWh, GLO, None) \n",
      "\t 'housing life cycle' (None, DE, None)\n"
     ]
    }
   ],
   "source": [
    "for x, y in db.datapackage().data[4]:\n",
    "    print(bd.get_node(id=x), \"\\n\\t\", bd.get_node(id=y))"
   ]
  },
  {
   "cell_type": "code",
   "execution_count": 36,
   "id": "b1e43831-1c0b-4963-afd8-594e3d2ca432",
   "metadata": {},
   "outputs": [],
   "source": [
    "import bw2calc as bc\n",
    "\n",
    "lca = bc.LCA({housing_service: 1})\n",
    "lca.lci()"
   ]
  },
  {
   "cell_type": "markdown",
   "id": "848837c7-7b4b-467f-98d0-c29317978f47",
   "metadata": {},
   "source": [
    "### Check if all nodes and edges have been added. \n",
    "- there should be 10 nodes\n",
    "- and 13 edges: 9 we defined, 4 from ecoinvent  "
   ]
  },
  {
   "cell_type": "code",
   "execution_count": 37,
   "id": "f36c6aab-3e64-4bda-bf83-a2f7df73ae5b",
   "metadata": {},
   "outputs": [
    {
     "name": "stdout",
     "output_type": "stream",
     "text": [
      "1: 'waste treatment' (kilogram, RoW, None)\n",
      "2: 'housing life cycle' (None, DE, None)\n",
      "3: 'waste wood' (kilogram, GLO, None)\n",
      "4: 'wood-framed building services for Germany' (person-year, GLO, None)\n",
      "5: 'electricity use for housing lifecycle' (kWh, GLO, None)\n",
      "6: 'timber production' (cubic meter, DE, None)\n",
      "7: 'construction' (square meter, RoW, None)\n",
      "8: 'electricity production' (kilowatt hour, DE, None)\n",
      "9: 'timber' (cubic meter, GLO, None)\n",
      "10: 'building' (square meter, GLO, None)\n"
     ]
    }
   ],
   "source": [
    "for i, node in enumerate(bd.Database('timber')):\n",
    "    print(f'{i+1}: {node}')"
   ]
  },
  {
   "cell_type": "code",
   "execution_count": 38,
   "id": "3e1498d4-60bb-43da-9748-f3aa7ba1d447",
   "metadata": {},
   "outputs": [
    {
     "name": "stdout",
     "output_type": "stream",
     "text": [
      "1: Exchange: 1 person-year 'wood-framed building services for Germany' (person-year, GLO, None) to 'housing life cycle' (None, DE, None)>\n",
      "2: Exchange: 1 kilogram 'waste wood' (kilogram, GLO, None) to 'housing life cycle' (None, DE, None)>\n",
      "3: Exchange: 1 square meter 'building' (square meter, GLO, None) to 'housing life cycle' (None, DE, None)>\n",
      "4: Exchange: 1 kWh 'electricity use for housing lifecycle' (kWh, GLO, None) to 'housing life cycle' (None, DE, None)>\n",
      "5: Exchange: 1.0 square meter 'building construction, hall, wood construction' (square meter, RoW, None) to 'construction' (square meter, RoW, None)>\n",
      "6: Exchange: 1 square meter 'building' (square meter, GLO, None) to 'construction' (square meter, RoW, None)>\n",
      "7: Exchange: 1 cubic meter 'timber' (cubic meter, GLO, None) to 'construction' (square meter, RoW, None)>\n",
      "8: Exchange: 1.0 cubic meter 'market for structural timber' (cubic meter, RER, None) to 'timber production' (cubic meter, DE, None)>\n",
      "9: Exchange: 1 cubic meter 'timber' (cubic meter, GLO, None) to 'timber production' (cubic meter, DE, None)>\n",
      "10: Exchange: 1.0 kilowatt hour 'market for electricity, low voltage' (kilowatt hour, DE, None) to 'electricity production' (kilowatt hour, DE, None)>\n",
      "11: Exchange: 1 kWh 'electricity use for housing lifecycle' (kWh, GLO, None) to 'electricity production' (kilowatt hour, DE, None)>\n",
      "12: Exchange: -1.0 kilogram 'market for waste building wood, chrome preserved' (kilogram, RoW, None) to 'waste treatment' (kilogram, RoW, None)>\n",
      "13: Exchange: 1 kilogram 'waste wood' (kilogram, GLO, None) to 'waste treatment' (kilogram, RoW, None)>\n"
     ]
    }
   ],
   "source": [
    "edges_all = []\n",
    "for node in bd.Database('timber'): \n",
    "    for edge in node.edges(): \n",
    "        edges_all.append(edge)\n",
    "\n",
    "for i, edge in enumerate(edges_all): \n",
    "    print(f'{i+1}: {edge}')"
   ]
  },
  {
   "cell_type": "markdown",
   "id": "2eb35ae1-c5f0-4db9-acd0-47c6b47199b6",
   "metadata": {},
   "source": [
    "# Adding parameters\n",
    "This is where we start connecting with Chris' notebook. We add the following parameters, and use these parameters to over-write all the consumption edges in our graph. \n",
    "* `timber_use` - Timber (kg) used in new housing construction (m2)\n",
    "* `housing_addition` - Annual housing construction (m2) added to total housing stock\n",
    "* `electricity_consumption` - Electricity consumption (kWh) used in total housing stock\n",
    "* `housing_waste` - Solid waste (kg) produced by total housing stock"
   ]
  },
  {
   "cell_type": "markdown",
   "id": "76df2214-2f16-4647-9f2b-116ab6563f42",
   "metadata": {},
   "source": [
    "### Get info from MFA (.csv file)"
   ]
  },
  {
   "cell_type": "code",
   "execution_count": 39,
   "id": "c3b7e23a-ca68-4684-bfc5-fa5862f58a32",
   "metadata": {},
   "outputs": [],
   "source": [
    "import pandas as pd\n",
    "import numpy as np"
   ]
  },
  {
   "cell_type": "code",
   "execution_count": 40,
   "id": "d444fcb5-eece-4455-88ef-99951bf5878f",
   "metadata": {},
   "outputs": [],
   "source": [
    "# need to double check the unit conversions \n",
    "# material_intensity unit: ton / m2 \n",
    "# inflow unit: ton \n",
    "# housing_addition (h_a) unit: m2 \n",
    "# timber use in m3 (t_u) \n",
    "# outflow of timber in m3 (w_w)\n",
    "\n",
    "# read tables\n",
    "df = pd.read_csv('input_timber_share.csv')\n",
    "df = df.clip(lower=0)\n",
    "df2 = pd.read_csv('input_lifetime.csv')\n",
    "df2 = df2.clip(lower=0)\n",
    "df3 = pd.read_csv('population.csv')\n",
    "df4 = pd.read_csv('Timber_intensity_ouflows.csv')\n",
    "\n",
    "# calculate electricity consumption for german households\n",
    "# per capita electricity consumption times population\n",
    "# unit kWh\n",
    "population = df3['Total Population']\n",
    "electricity_total = np.array(population * 1565.560375)\n",
    "\n",
    "# Baseline\n",
    "h_a_baseline = np.array(df.inflow_baseline / 0.035)\n",
    "t_u_baseline = h_a_baseline * 0.035 * 1000 / 396\n",
    "w_w_baseline = np.array(df2['Outflow_Baseline'] * 0.035 * 1000 / 396)\n",
    "\n",
    "# S1 - Higher timber share\n",
    "h_a_s1 = df.inflow_s1 * 1 / df.material_intensity_s1 # housing_addition unit: square meter \n",
    "t_u_s1 = h_a_s1 * df.material_intensity_s1 * 1000 / 396 # timber_use unit: kilogram \n",
    "w_w_s1 = df4['Outflow_s1'] * 0.035 * 1000 / 396\n",
    "\n",
    "# S2 - 20yr lifetime\n",
    "h_a_s2 = df2['Inflow_l_20yr'] / 0.035\n",
    "t_u_s2 = h_a_s2 * 0.035 * 1000 / 396\n",
    "w_w_s2 = df2['Outflow_l_20yr'] * 0.035 * 1000 / 396\n",
    "\n",
    "# S3 - 50yr lifetime\n",
    "h_a_s3 = df2['Inflow_l_50yr'] / 0.035\n",
    "t_u_s3 = h_a_s3 * 0.035 * 1000 / 396\n",
    "w_w_s3 = df2['Outflow_l_50yr'] * 0.035 * 1000 / 396\n",
    "\n",
    "# S4 - 125yr lifetime\n",
    "h_a_s4 = df2['Inlow_l_125yr'] / 0.035\n",
    "t_u_s4 = h_a_s4 * 0.035 * 1000 / 396\n",
    "w_w_s4 = df2['Outlow_l_125yr'] * 0.035 * 1000 / 396\n",
    "\n",
    "housing_addition_array = np.array(h_a_baseline)"
   ]
  },
  {
   "cell_type": "markdown",
   "id": "41f4cfeb-133b-46df-a6db-ca447cd29064",
   "metadata": {},
   "source": [
    "### Add parameters into bw model\n",
    "* `timber_use` - Timber (m3) used in new housing construction (m2)\n",
    "* `housing_addition` - Annual housing construction (m2) added to total housing stock\n",
    "* `electricity_consumption` - Electricity consumption (kWh) used in total housing stock\n",
    "* `housing_waste` - Solid waste (kg) produced by total housing stock"
   ]
  },
  {
   "cell_type": "code",
   "execution_count": 41,
   "id": "47ff0bd3-1ecd-4fe8-983c-ed6c782a275d",
   "metadata": {},
   "outputs": [],
   "source": [
    "from dataclasses import dataclass\n",
    "import numpy as np"
   ]
  },
  {
   "cell_type": "code",
   "execution_count": 42,
   "id": "ecfcb91e-dba6-49b1-b7f5-a96423a27f65",
   "metadata": {},
   "outputs": [],
   "source": [
    "@dataclass\n",
    "class DataArray:\n",
    "    product: bd.Node\n",
    "    process: bd.Node\n",
    "    array: np.ndarray\n",
    "    consumption: bool = True"
   ]
  },
  {
   "cell_type": "code",
   "execution_count": 43,
   "id": "a53bb092-d814-4e1e-afc4-e63497ac5c6f",
   "metadata": {},
   "outputs": [],
   "source": [
    "import bw_processing as bwp\n",
    "\n",
    "def data_obj_for_arrays(arrays: list[DataArray]) -> bwp.Datapackage:\n",
    "    for dc in arrays:\n",
    "        assert isinstance(dc, DataArray), \"Oops, wrong input type\"\n",
    "\n",
    "    data_array = np.vstack([dc.array for dc in arrays])\n",
    "    indices_array = np.array(\n",
    "        [(dc.product.id, dc.process.id) for dc in arrays], \n",
    "        dtype=bwp.INDICES_DTYPE\n",
    "    )\n",
    "    flip_array = np.array([dc.consumption for dc in arrays])\n",
    "    dp = bwp.create_datapackage(\n",
    "        sequential=True\n",
    "    )\n",
    "    dp.add_persistent_array(\n",
    "        matrix=\"technosphere_matrix\",\n",
    "        indices_array=indices_array,\n",
    "        data_array=data_array,\n",
    "        flip_array=flip_array,\n",
    "    )\n",
    "    return dp"
   ]
  },
  {
   "cell_type": "markdown",
   "id": "e9e2d04a-44b4-4e20-b43f-d472bfc6b423",
   "metadata": {},
   "source": [
    "# Calculate LCA "
   ]
  },
  {
   "cell_type": "code",
   "execution_count": 44,
   "id": "b39001f3-e06e-4103-9fa6-1b635af5534e",
   "metadata": {},
   "outputs": [],
   "source": [
    "# define parameter for baseline\n",
    "timber_use = DataArray(\n",
    "    product=timber,\n",
    "    process=construction,\n",
    "    array=t_u_baseline, \n",
    ")\n",
    "housing_addition = DataArray(\n",
    "    product=building,\n",
    "    process=housing_lifecycle,\n",
    "    array=h_a_baseline, \n",
    ")\n",
    "electricity_consumption = DataArray(\n",
    "    product=electricity,\n",
    "    process=housing_lifecycle,\n",
    "    array=electricity_total\n",
    ")\n",
    "housing_waste = DataArray(\n",
    "    product=waste_wood,\n",
    "    process=housing_lifecycle,\n",
    "    array=w_w_baseline,\n",
    "    consumption=False,\n",
    ")"
   ]
  },
  {
   "cell_type": "code",
   "execution_count": 45,
   "id": "c11ecbe3-0643-48a9-80eb-c91e103cc029",
   "metadata": {
    "scrolled": true
   },
   "outputs": [
    {
     "name": "stdout",
     "output_type": "stream",
     "text": [
      "51483639082.70024\n",
      "51364405858.303246\n",
      "51235812391.055504\n",
      "51101736802.08768\n",
      "50960828388.910675\n",
      "50825706421.72679\n",
      "50679847686.067024\n",
      "50544425086.74891\n",
      "50404517563.62415\n",
      "50277473385.476875\n",
      "50142934865.17921\n",
      "49998951874.92916\n",
      "49864436720.66598\n",
      "49724876565.746475\n",
      "49589024238.338684\n",
      "49456490573.85681\n",
      "49335630628.56887\n",
      "49214819255.192955\n",
      "49081137778.93332\n",
      "48941208150.645966\n",
      "48801016009.03269\n",
      "48661675976.6205\n",
      "48517993040.87204\n",
      "48362644385.77992\n",
      "48210353722.96753\n",
      "48059828754.8834\n",
      "47907659217.11679\n",
      "47755431279.46448\n",
      "47586716405.85567\n",
      "47409825387.2862\n",
      "47232013412.834885\n",
      "47061469544.20127\n",
      "46889101586.9223\n",
      "46718405876.833466\n",
      "46559909538.70659\n",
      "46402670461.58683\n",
      "46260951260.91559\n",
      "46119274487.30567\n",
      "45988693529.24051\n",
      "45863720116.83653\n",
      "45744361627.2928\n",
      "45624780587.32762\n",
      "45509718905.81527\n",
      "45406516612.80133\n",
      "45304349022.54693\n",
      "45212877628.605286\n",
      "45112234119.36171\n",
      "45018601112.55989\n",
      "44919251133.62208\n",
      "44822470995.564255\n",
      "44738899100.119026\n",
      "44641383666.00523\n",
      "44544350843.11286\n",
      "653197155488.4052\n",
      "7698550433111.772\n",
      "26688996321511.46\n",
      "66325609060580.164\n",
      "120270762441963.33\n",
      "136681535214914.97\n",
      "214457914326324.75\n",
      "254738066108821.94\n",
      "291016031516683.3\n",
      "428835514678599.56\n",
      "662684150353521.6\n",
      "779256153224870.1\n",
      "799092740182546.8\n",
      "1032664612042815.2\n",
      "1358856228364381.5\n",
      "1535531501528800.2\n",
      "1693896805397190.0\n",
      "1815796912470678.5\n",
      "1829928696720085.0\n",
      "1838295938260820.5\n",
      "2343817484121411.5\n",
      "2376685800646117.5\n"
     ]
    }
   ],
   "source": [
    "# calculate LCA for Baseline\n",
    "dp = data_obj_for_arrays([\n",
    "    timber_use,\n",
    "    housing_addition,\n",
    "    electricity_consumption,\n",
    "    housing_waste\n",
    "])\n",
    "import bw2calc as bc\n",
    "ipcc = ('IPCC 2021', 'climate change', 'global warming potential (GWP100)')\n",
    "functional_unit, data_objs, _ = bd.prepare_lca_inputs({housing_service: 1}, method=ipcc)\n",
    "lca = bc.LCA(functional_unit, data_objs = data_objs + [dp], use_arrays=True)\n",
    "lca.lci()\n",
    "lca.lcia()\n",
    "results_baseline = []\n",
    "results_baseline.append(lca.score) # 1st score \n",
    "for i in range(len(housing_addition_array) - 1):\n",
    "    next(lca)\n",
    "    print(lca.score)\n",
    "    results_baseline.append(lca.score)"
   ]
  },
  {
   "cell_type": "code",
   "execution_count": 46,
   "id": "d68259d1-9d5c-485a-88f7-94d887b12792",
   "metadata": {},
   "outputs": [
    {
     "data": {
      "image/png": "[encoded data removed]",
      "text/plain": [
       "<Figure size 640x480 with 1 Axes>"
      ]
     },
     "metadata": {},
     "output_type": "display_data"
    }
   ],
   "source": [
    "# ploting for baseline\n",
    "import matplotlib.pyplot as plt\n",
    "plt.plot(results_baseline, marker='o')  # Adds dots to each point\n",
    "plt.title(\"BASELINE - GWP of German housing service per year\")\n",
    "plt.xlabel(\"Time\")\n",
    "plt.ylabel(\"GWP (kg CO2-eq)\")\n",
    "plt.grid(True)\n",
    "plt.tight_layout()\n",
    "plt.show()"
   ]
  },
  {
   "cell_type": "code",
   "execution_count": 47,
   "id": "24c77502-1dc4-4027-8f90-9c12f66c9b59",
   "metadata": {},
   "outputs": [],
   "source": [
    "# define parameter for S1 - Higher timber share (70yr lifetime)\n",
    "timber_use = DataArray(\n",
    "    product=timber,\n",
    "    process=construction,\n",
    "    array=t_u_s1, \n",
    ")\n",
    "housing_addition = DataArray(\n",
    "    product=building,\n",
    "    process=housing_lifecycle,\n",
    "    array=h_a_s1, \n",
    ")\n",
    "electricity_consumption = DataArray(\n",
    "    product=electricity,\n",
    "    process=housing_lifecycle,\n",
    "    array=electricity_total\n",
    ")\n",
    "housing_waste = DataArray(\n",
    "    product=waste_wood,\n",
    "    process=housing_lifecycle,\n",
    "    array=w_w_s1,\n",
    "    consumption=False,\n",
    ")"
   ]
  },
  {
   "cell_type": "code",
   "execution_count": 48,
   "id": "a2fb735b-3147-4e09-9b16-0bae9ee69a8f",
   "metadata": {
    "scrolled": true
   },
   "outputs": [
    {
     "name": "stdout",
     "output_type": "stream",
     "text": [
      "51483637626.91859\n",
      "353974086385041.56\n",
      "272848425370344.34\n",
      "230419684863787.4\n",
      "183297960232962.06\n",
      "225068594125758.84\n",
      "155895702855806.97\n",
      "230432038948151.3\n",
      "204220507805228.62\n",
      "313772295167425.1\n",
      "263031241812805.5\n",
      "204542213411454.5\n",
      "292999113678272.25\n",
      "270501384762592.84\n",
      "325096516648666.5\n",
      "385174812849556.4\n",
      "548241691690670.6\n",
      "597635254840040.2\n",
      "500954908674635.0\n",
      "487759329678120.75\n",
      "548507577723840.56\n",
      "634384847383248.2\n",
      "666222975072056.9\n",
      "612794745975293.9\n",
      "759968607252056.6\n",
      "914755193000669.8\n",
      "1040418285018490.0\n",
      "1215544304601457.2\n",
      "1122855920321043.9\n",
      "1186689943237259.8\n",
      "1401438485510548.2\n",
      "1825692133807075.2\n",
      "2109442765620084.5\n",
      "2524094376054612.5\n",
      "3303040088701542.5\n",
      "3860150526870193.0\n",
      "4994240797367351.0\n",
      "5693183555930410.0\n",
      "6936488740190688.0\n",
      "8082857888702877.0\n",
      "9352787271064276.0\n",
      "1.0438951059888162e+16\n",
      "1.188286100059579e+16\n",
      "1.3898040733643926e+16\n",
      "1.5395294735270466e+16\n",
      "1.7655631018242572e+16\n",
      "1.8648008799019908e+16\n",
      "2.0880256115762944e+16\n",
      "2.2239069431078144e+16\n",
      "2.4306719418047776e+16\n",
      "2.737129517319695e+16\n",
      "2.8147931325852864e+16\n",
      "3.0200842708458216e+16\n",
      "3.316745514660803e+16\n",
      "3.5605100792308904e+16\n",
      "3.8215321994592104e+16\n",
      "4.107492476549437e+16\n",
      "4.3846597568288056e+16\n",
      "4.557489318328821e+16\n",
      "4.826482379025358e+16\n",
      "5.005035584360547e+16\n",
      "5.1578222801572664e+16\n",
      "5.425434075969527e+16\n",
      "5.753909998735273e+16\n",
      "5.914424065990122e+16\n",
      "5.954881268903233e+16\n",
      "6.16656132592857e+16\n",
      "6.407802341038998e+16\n",
      "6.4917262696891864e+16\n",
      "6.5319741416822776e+16\n",
      "6.518787851661933e+16\n",
      "6.4081644757034296e+16\n",
      "6.27175234650514e+16\n",
      "6.42380147136883e+16\n",
      "6.258889679646078e+16\n"
     ]
    }
   ],
   "source": [
    "# calculate LCA for S1\n",
    "dp = data_obj_for_arrays([\n",
    "    timber_use,\n",
    "    housing_addition,\n",
    "    electricity_consumption,\n",
    "    housing_waste\n",
    "])\n",
    "import bw2calc as bc\n",
    "ipcc = ('IPCC 2021', 'climate change', 'global warming potential (GWP100)')\n",
    "functional_unit, data_objs, _ = bd.prepare_lca_inputs({housing_service: 1}, method=ipcc)\n",
    "lca = bc.LCA(functional_unit, data_objs = data_objs + [dp], use_arrays=True)\n",
    "lca.lci()\n",
    "lca.lcia()\n",
    "results_s1 = []\n",
    "results_s1.append(lca.score) # 1st score \n",
    "for i in range(len(housing_addition_array) - 1):\n",
    "    next(lca)\n",
    "    print(lca.score)\n",
    "    results_s1.append(lca.score)"
   ]
  },
  {
   "cell_type": "code",
   "execution_count": 49,
   "id": "131bed80-22fa-4f93-bc35-656cf8f244ca",
   "metadata": {},
   "outputs": [
    {
     "data": {
      "image/png": "[encoded data removed]",
      "text/plain": [
       "<Figure size 640x480 with 1 Axes>"
      ]
     },
     "metadata": {},
     "output_type": "display_data"
    }
   ],
   "source": [
    "# ploting for S1\n",
    "import matplotlib.pyplot as plt\n",
    "plt.plot(results_s1, marker='o')  # Adds dots to each point\n",
    "plt.title(\"Scenario 1 - GWP of German housing service per year\")\n",
    "plt.xlabel(\"Time\")\n",
    "plt.ylabel(\"GWP (kg CO2-eq)\")\n",
    "plt.grid(True)\n",
    "plt.tight_layout()\n",
    "plt.show()"
   ]
  },
  {
   "cell_type": "code",
   "execution_count": 50,
   "id": "390016d4-a5f3-4272-b47a-7cca48792d17",
   "metadata": {},
   "outputs": [],
   "source": [
    "# define parameter for S2 - 20yr life time\n",
    "timber_use = DataArray(\n",
    "    product=timber,\n",
    "    process=construction,\n",
    "    array=t_u_s2, \n",
    ")\n",
    "housing_addition = DataArray(\n",
    "    product=building,\n",
    "    process=housing_lifecycle,\n",
    "    array=h_a_s2, \n",
    ")\n",
    "electricity_consumption = DataArray(\n",
    "    product=electricity,\n",
    "    process=housing_lifecycle,\n",
    "    array=electricity_total\n",
    ")\n",
    "housing_waste = DataArray(\n",
    "    product=waste_wood,\n",
    "    process=housing_lifecycle,\n",
    "    array=w_w_s2,\n",
    "    consumption=False,\n",
    ")"
   ]
  },
  {
   "cell_type": "code",
   "execution_count": 51,
   "id": "dc5bb4b3-8767-4ef6-8d66-1a72662ed0a1",
   "metadata": {
    "scrolled": true
   },
   "outputs": [
    {
     "name": "stdout",
     "output_type": "stream",
     "text": [
      "51483639174.09021\n",
      "51364406027.28063\n",
      "51235812684.17629\n",
      "51101737287.8161\n",
      "121431899953236.31\n",
      "1133016140366290.8\n",
      "3569102006852947.5\n",
      "9925349968709492.0\n",
      "2.1211108881283776e+16\n",
      "4.242537906995576e+16\n",
      "7.355070685503522e+16\n",
      "1.1858766786734243e+17\n",
      "1.831655670723564e+17\n",
      "2.605470779415397e+17\n",
      "3.5152238392086944e+17\n",
      "4.465312002320627e+17\n",
      "5.382771910543177e+17\n",
      "6.086844211396632e+17\n",
      "6.470472616662255e+17\n",
      "6.554076336649015e+17\n",
      "6.336169173481494e+17\n",
      "5.848748715404204e+17\n",
      "5.158011154681674e+17\n",
      "4.36474836139138e+17\n",
      "3.634501690410873e+17\n",
      "2.98359697569409e+17\n",
      "2.4482296995092403e+17\n",
      "2.0546267945454483e+17\n",
      "1.7601029351484608e+17\n",
      "1.6028128007734717e+17\n",
      "1.5610252244382253e+17\n",
      "1.6211466329442083e+17\n",
      "1.7367505653422282e+17\n",
      "1.9182642233314342e+17\n",
      "2.166338334931861e+17\n",
      "2.415459349033153e+17\n",
      "2.7031414962349862e+17\n",
      "2.9354845187681395e+17\n",
      "3.159857109757056e+17\n",
      "3.318122137840475e+17\n",
      "3.415513909557117e+17\n",
      "3.4330991395382176e+17\n",
      "3.404619134777043e+17\n",
      "3.346221038433116e+17\n",
      "3.219857990387461e+17\n",
      "3.0960362969706176e+17\n",
      "2.9101569010213286e+17\n",
      "2.770057922923754e+17\n",
      "2.6115102977003194e+17\n",
      "2.4946986580138672e+17\n",
      "2.4285169297031133e+17\n",
      "2.3261969599882506e+17\n",
      "2.2858034853461827e+17\n",
      "2.2930110268144746e+17\n",
      "2.3095692173131632e+17\n",
      "2.3491150919005728e+17\n",
      "2.408712782876662e+17\n",
      "2.4759461409493658e+17\n",
      "2.5257092685144934e+17\n",
      "2.596012203801827e+17\n",
      "2.6431209652468378e+17\n",
      "2.6775152691847146e+17\n",
      "2.725435773000338e+17\n",
      "2.773870344410954e+17\n",
      "2.7780148894064806e+17\n",
      "2.7498796566593907e+17\n",
      "2.7475980048726582e+17\n",
      "2.745913659349604e+17\n",
      "2.7136689760918077e+17\n",
      "2.6755755471082e+17\n",
      "2.6328945359367952e+17\n",
      "2.580320854570645e+17\n",
      "2.5323784198546938e+17\n",
      "2.5455824095684352e+17\n",
      "2.5133913513014864e+17\n"
     ]
    }
   ],
   "source": [
    "# calculate LCA for S2\n",
    "dp = data_obj_for_arrays([\n",
    "    timber_use,\n",
    "    housing_addition,\n",
    "    electricity_consumption,\n",
    "    housing_waste\n",
    "])\n",
    "import bw2calc as bc\n",
    "ipcc = ('IPCC 2021', 'climate change', 'global warming potential (GWP100)')\n",
    "functional_unit, data_objs, _ = bd.prepare_lca_inputs({housing_service: 1}, method=ipcc)\n",
    "lca = bc.LCA(functional_unit, data_objs = data_objs + [dp], use_arrays=True)\n",
    "lca.lci()\n",
    "lca.lcia()\n",
    "results_s2 = []\n",
    "results_s2.append(lca.score) # 1st score \n",
    "for i in range(len(housing_addition_array) - 1):\n",
    "    next(lca)\n",
    "    print(lca.score)\n",
    "    results_s2.append(lca.score)"
   ]
  },
  {
   "cell_type": "code",
   "execution_count": 52,
   "id": "1ca80bdc-a5f4-4c67-a6c1-ca1c0a2883ff",
   "metadata": {},
   "outputs": [
    {
     "data": {
      "image/png": "[encoded data removed]",
      "text/plain": [
       "<Figure size 640x480 with 1 Axes>"
      ]
     },
     "metadata": {},
     "output_type": "display_data"
    }
   ],
   "source": [
    "# ploting for S2\n",
    "import matplotlib.pyplot as plt\n",
    "plt.plot(results_s2, marker='o')  # Adds dots to each point\n",
    "plt.title(\"Scenario 2 - GWP of German housing service per year\")\n",
    "plt.xlabel(\"Time\")\n",
    "plt.ylabel(\"GWP (kg CO2-eq)\")\n",
    "plt.grid(True)\n",
    "plt.tight_layout()\n",
    "plt.show()"
   ]
  },
  {
   "cell_type": "code",
   "execution_count": 53,
   "id": "14c3b20e-d7a3-47db-bbd9-46203928f98f",
   "metadata": {},
   "outputs": [],
   "source": [
    "# define parameter for S3 - 50yr life time\n",
    "timber_use = DataArray(\n",
    "    product=timber,\n",
    "    process=construction,\n",
    "    array=t_u_s3, \n",
    ")\n",
    "housing_addition = DataArray(\n",
    "    product=building,\n",
    "    process=housing_lifecycle,\n",
    "    array=h_a_s3, \n",
    ")\n",
    "electricity_consumption = DataArray(\n",
    "    product=electricity,\n",
    "    process=housing_lifecycle,\n",
    "    array=electricity_total\n",
    ")\n",
    "housing_waste = DataArray(\n",
    "    product=waste_wood,\n",
    "    process=housing_lifecycle,\n",
    "    array=w_w_s3,\n",
    "    consumption=False,\n",
    ")"
   ]
  },
  {
   "cell_type": "code",
   "execution_count": 54,
   "id": "73eb6225-1d0e-46d8-8b47-774fa4432697",
   "metadata": {
    "scrolled": true
   },
   "outputs": [
    {
     "name": "stdout",
     "output_type": "stream",
     "text": [
      "51483639095.06192\n",
      "51364405875.67933\n",
      "51235812414.76197\n",
      "51101736833.82714\n",
      "50960828430.664604\n",
      "50825706475.84934\n",
      "50679847755.33359\n",
      "50544425174.40825\n",
      "50404517673.44416\n",
      "50277473521.80245\n",
      "50142935032.97456\n",
      "49998952079.82989\n",
      "49864436969.01251\n",
      "49724876864.61977\n",
      "49589024595.588684\n",
      "49456490998.10709\n",
      "5348832123707.978\n",
      "50326425714069.2\n",
      "86908158178652.12\n",
      "188089206834480.28\n",
      "405763293865868.2\n",
      "754057956105975.9\n",
      "1167118051177852.8\n",
      "1579968441814515.5\n",
      "2451484207767198.0\n",
      "3551871908125445.0\n",
      "4826906476220986.0\n",
      "6450920827603420.0\n",
      "7700752886866579.0\n",
      "9540297729820766.0\n",
      "1.2047528089639406e+16\n",
      "1.5416387078951508e+16\n",
      "1.867070525344294e+16\n",
      "2.253651870521089e+16\n",
      "2.7618326700576988e+16\n",
      "3.224423570404814e+16\n",
      "3.849148532933047e+16\n",
      "4.359545232295369e+16\n",
      "5.0005885062824216e+16\n",
      "5.596307412867675e+16\n",
      "6.191392643080602e+16\n",
      "6.701611687002506e+16\n",
      "7.243715413192678e+16\n",
      "7.84816073702168e+16\n",
      "8.261709216576224e+16\n",
      "8.752313907620912e+16\n",
      "8.89374965041322e+16\n",
      "9.192377923852318e+16\n",
      "9.227562065384302e+16\n",
      "9.302742719738963e+16\n",
      "9.453919022050997e+16\n",
      "9.128177211340624e+16\n",
      "8.940820543196547e+16\n",
      "8.818577739771533e+16\n",
      "8.547614037934331e+16\n",
      "8.245735245897549e+16\n",
      "7.931126935257418e+16\n",
      "7.570924403611667e+16\n",
      "7.07214513813111e+16\n",
      "6.6788423291518104e+16\n",
      "6.196421801767711e+16\n",
      "5.7107099988918456e+16\n",
      "5.3581207721863816e+16\n",
      "5.081014668992363e+16\n",
      "4.69400356515847e+16\n",
      "4.259015034080101e+16\n",
      "4.00019815758157e+16\n",
      "3.802260594423929e+16\n",
      "3.5404045665647412e+16\n",
      "3.2987664912299704e+16\n",
      "3.072410872895949e+16\n",
      "2.835923731367413e+16\n",
      "2.6319470139771776e+16\n",
      "2.6340703844698976e+16\n",
      "2.495188407866937e+16\n"
     ]
    }
   ],
   "source": [
    "# calculate LCA for S3\n",
    "dp = data_obj_for_arrays([\n",
    "    timber_use,\n",
    "    housing_addition,\n",
    "    electricity_consumption,\n",
    "    housing_waste\n",
    "])\n",
    "import bw2calc as bc\n",
    "ipcc = ('IPCC 2021', 'climate change', 'global warming potential (GWP100)')\n",
    "functional_unit, data_objs, _ = bd.prepare_lca_inputs({housing_service: 1}, method=ipcc)\n",
    "lca = bc.LCA(functional_unit, data_objs = data_objs + [dp], use_arrays=True)\n",
    "lca.lci()\n",
    "lca.lcia()\n",
    "results_s3 = []\n",
    "results_s3.append(lca.score) # 1st score \n",
    "for i in range(len(housing_addition_array) - 1):\n",
    "    next(lca)\n",
    "    print(lca.score)\n",
    "    results_s3.append(lca.score)"
   ]
  },
  {
   "cell_type": "code",
   "execution_count": 55,
   "id": "6f6a48bf-017f-414b-bcb0-d9ce09fcea83",
   "metadata": {},
   "outputs": [
    {
     "data": {
      "image/png": "[encoded data removed]",
      "text/plain": [
       "<Figure size 640x480 with 1 Axes>"
      ]
     },
     "metadata": {},
     "output_type": "display_data"
    }
   ],
   "source": [
    "# ploting for S3\n",
    "import matplotlib.pyplot as plt\n",
    "plt.plot(results_s3, marker='o')  # Adds dots to each point\n",
    "plt.title(\"Scenario 3 - GWP of German housing service per year\")\n",
    "plt.xlabel(\"Time\")\n",
    "plt.ylabel(\"GWP (kg CO2-eq)\")\n",
    "plt.grid(True)\n",
    "plt.tight_layout()\n",
    "plt.show()"
   ]
  },
  {
   "cell_type": "code",
   "execution_count": 56,
   "id": "635211ca-0183-4e05-8f1a-2f09080e2f22",
   "metadata": {},
   "outputs": [],
   "source": [
    "# define parameter for S4 - 125yr life time\n",
    "timber_use = DataArray(\n",
    "    product=timber,\n",
    "    process=construction,\n",
    "    array=t_u_s4, \n",
    ")\n",
    "housing_addition = DataArray(\n",
    "    product=building,\n",
    "    process=housing_lifecycle,\n",
    "    array=h_a_s4, \n",
    ")\n",
    "electricity_consumption = DataArray(\n",
    "    product=electricity,\n",
    "    process=housing_lifecycle,\n",
    "    array=electricity_total\n",
    ")\n",
    "housing_waste = DataArray(\n",
    "    product=waste_wood,\n",
    "    process=housing_lifecycle,\n",
    "    array=w_w_s4,\n",
    "    consumption=False,\n",
    ")"
   ]
  },
  {
   "cell_type": "code",
   "execution_count": 57,
   "id": "e0fd90eb-6f60-4958-970d-be4712a11a07",
   "metadata": {
    "scrolled": true
   },
   "outputs": [
    {
     "name": "stdout",
     "output_type": "stream",
     "text": [
      "51483639069.96698\n",
      "51364405842.29956\n",
      "51235812371.2551\n",
      "51101736777.76875\n",
      "50960828359.31967\n",
      "50825706386.0097\n",
      "50679847643.26211\n",
      "50544425035.77283\n",
      "50404517503.26857\n",
      "50277473314.38907\n",
      "50142934781.85947\n",
      "49998951777.71258\n",
      "49864436607.71988\n",
      "49724876435.05636\n",
      "49589024087.69327\n",
      "49456490400.84482\n",
      "49335630430.56571\n",
      "49214819029.35362\n",
      "49081137522.183624\n",
      "48941207859.6815\n",
      "48801015680.31454\n",
      "48661675606.37045\n",
      "48517992625.07135\n",
      "48362643920.17303\n",
      "48210353203.068695\n",
      "48059828175.98493\n",
      "47907658574.29505\n",
      "47755430567.59815\n",
      "47586715619.643074\n",
      "47409824521.266785\n",
      "47232012461.41791\n",
      "47061468501.69057\n",
      "46889100447.549065\n",
      "46718404634.79234\n",
      "46559908188.20062\n",
      "46402668996.868546\n",
      "46260949676.333176\n",
      "46119272777.358284\n",
      "45988691688.62608\n",
      "45863718140.514465\n",
      "45744359510.53587\n",
      "45624778325.78404\n",
      "45509716495.56836\n",
      "45406514050.429634\n",
      "45304346305.18191\n",
      "45212874753.98707\n",
      "45112231085.89981\n",
      "45018597919.380196\n",
      "44919247780.62232\n",
      "44822467483.45049\n",
      "44738895430.45007\n",
      "44641379841.2211\n",
      "44544346866.55872\n",
      "653197151326.8271\n",
      "7698550427720.466\n",
      "26688996315622.906\n",
      "66325609059969.375\n",
      "120270762456410.58\n",
      "136681535263942.77\n",
      "214457914410300.84\n",
      "254738066219724.1\n",
      "291016031404836.3\n",
      "428835514729187.1\n",
      "662684150510124.0\n",
      "779256153189093.2\n",
      "799092740111394.8\n",
      "1032664612146630.4\n",
      "1358856228367240.2\n",
      "1535531501600043.0\n",
      "1693896805461449.5\n",
      "1815796912144242.2\n",
      "1829928697082972.0\n",
      "1838295938429406.5\n",
      "2343817484339395.0\n",
      "2376685800719012.0\n"
     ]
    }
   ],
   "source": [
    "# calculate LCA for S4\n",
    "dp = data_obj_for_arrays([\n",
    "    timber_use,\n",
    "    housing_addition,\n",
    "    electricity_consumption,\n",
    "    housing_waste\n",
    "])\n",
    "import bw2calc as bc\n",
    "ipcc = ('IPCC 2021', 'climate change', 'global warming potential (GWP100)')\n",
    "functional_unit, data_objs, _ = bd.prepare_lca_inputs({housing_service: 1}, method=ipcc)\n",
    "lca = bc.LCA(functional_unit, data_objs = data_objs + [dp], use_arrays=True)\n",
    "lca.lci()\n",
    "lca.lcia()\n",
    "results_s4 = []\n",
    "results_s4.append(lca.score) # 1st score \n",
    "for i in range(len(housing_addition_array) - 1):\n",
    "    next(lca)\n",
    "    print(lca.score)\n",
    "    results_s4.append(lca.score)"
   ]
  },
  {
   "cell_type": "code",
   "execution_count": 58,
   "id": "2f80e559-1bd4-4313-98d4-1632367f8f4f",
   "metadata": {},
   "outputs": [
    {
     "data": {
      "image/png": "[encoded data removed]",
      "text/plain": [
       "<Figure size 640x480 with 1 Axes>"
      ]
     },
     "metadata": {},
     "output_type": "display_data"
    }
   ],
   "source": [
    "# ploting for S4\n",
    "import matplotlib.pyplot as plt\n",
    "plt.plot(results_s4, marker='o')  # Adds dots to each point\n",
    "plt.title(\"Scenario 4 - GWP of German housing service per year\")\n",
    "plt.xlabel(\"Time\")\n",
    "plt.ylabel(\"GWP (kg CO2-eq)\")\n",
    "plt.grid(True)\n",
    "plt.tight_layout()\n",
    "plt.show()"
   ]
  },
  {
   "cell_type": "markdown",
   "id": "08fd8dfd-5a22-4d66-980a-b07bfe4e24b3",
   "metadata": {},
   "source": [
    "### GWP (discounted) per scenario per year "
   ]
  },
  {
   "cell_type": "code",
   "execution_count": 59,
   "id": "64428c19-f86e-4964-9a05-dcb52166605e",
   "metadata": {},
   "outputs": [
    {
     "data": {
      "image/png": "[encoded data removed]",
      "text/plain": [
       "<Figure size 1000x600 with 1 Axes>"
      ]
     },
     "metadata": {},
     "output_type": "display_data"
    }
   ],
   "source": [
    "df = pd.DataFrame({\n",
    "    \"Year\": list(range(2025, 2101)),\n",
    "    \"Baseline\": results_baseline,\n",
    "    \"S1-Higher timber share\": results_s1,\n",
    "    \"S2-20yr lifetime\": results_s2,\n",
    "    \"S3-50yr lifetime\": results_s3,\n",
    "    \"S4-125yr lifetime\": results_s4,\n",
    "})\n",
    "\n",
    "plt.figure(figsize=(10, 6))\n",
    "\n",
    "# Define colors for each line\n",
    "line_colors = {\n",
    "    \"S1-Higher timber share\": 'orange',  \n",
    "    \"S2-20yr lifetime\": 'blue',  \n",
    "    \"S3-50yr lifetime\": 'red', \n",
    "    \"S4-125yr lifetime\": 'green' \n",
    "}\n",
    "\n",
    "# Plot each list as a line against year with manual color assignments\n",
    "for col in df.columns[1:]:\n",
    "    if col == \"Baseline\":\n",
    "        plt.plot(df[\"Year\"], df[col], label=col, linewidth=4, color='black')  # thicker line for Baseline\n",
    "    else:\n",
    "        plt.plot(df[\"Year\"], df[col], label=col, linewidth=2, color=line_colors.get(col, 'black'))  # Default to black if no color specified\n",
    "\n",
    "plt.xlabel(\"Year\")\n",
    "plt.ylabel(\"GWP (kg CO2-equivalent)\")\n",
    "plt.title(\"GWP Trends from 2025 to 2100\")\n",
    "plt.legend()\n",
    "plt.grid(True, linestyle='--', alpha=0.5)\n",
    "plt.tight_layout()\n",
    "plt.show()"
   ]
  }
 ],
 "metadata": {
  "kernelspec": {
   "display_name": "Python [conda env:brightway25]",
   "language": "python",
   "name": "conda-env-brightway25-py"
  },
  "language_info": {
   "codemirror_mode": {
    "name": "ipython",
    "version": 3
   },
   "file_extension": ".py",
   "mimetype": "text/x-python",
   "name": "python",
   "nbconvert_exporter": "python",
   "pygments_lexer": "ipython3",
   "version": "3.11.13"
  }
 },
 "nbformat": 4,
 "nbformat_minor": 5
}
